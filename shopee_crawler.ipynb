{
 "cells": [
  {
   "cell_type": "code",
   "execution_count": null,
   "metadata": {},
   "outputs": [],
   "source": [
    "import requests\n",
    "import pandas as pd\n",
    "import os, time, random, re, csv\n",
    "from urllib.parse import urlparse\n",
    "import utils\n",
    "from IPython import display\n",
    "import json\n",
    "from playwright.async_api import async_playwright\n",
    "import asyncio\n",
    "import nest_asyncio"
   ]
  },
  {
   "cell_type": "code",
   "execution_count": null,
   "metadata": {},
   "outputs": [],
   "source": [
    "URL_FILE = \"shopee_urls.csv\""
   ]
  },
  {
   "cell_type": "code",
   "execution_count": null,
   "metadata": {},
   "outputs": [],
   "source": [
    "nest_asyncio.apply()"
   ]
  },
  {
   "cell_type": "code",
   "execution_count": null,
   "metadata": {},
   "outputs": [],
   "source": [
    "async with async_playwright() as p:\n",
    "    browser = await p.chromium.launch(headless=False)\n",
    "    context = await browser.new_context()\n",
    "\n",
    "    page = await context.new_page()\n",
    "    await page.goto(\"https://shopee.vn\")\n",
    "\n",
    "    await asyncio.sleep(30)  # Manually log in within this time\n",
    "\n",
    "    cookies = await context.cookies()\n",
    "    with open(\"shopee_cookies.json\", \"w\") as f:\n",
    "        json.dump(cookies, f)\n",
    "\n",
    "    print(\"Cookies saved successfully!\")\n",
    "    "
   ]
  },
  {
   "cell_type": "code",
   "execution_count": null,
   "metadata": {},
   "outputs": [],
   "source": [
    "async def main():\n",
    "    all_urls_scraped = False\n",
    "\n",
    "    while not all_urls_scraped:\n",
    "        display.clear_output(wait=True)\n",
    "        try:\n",
    "            all_urls_scraped = await utils.scrape_reviews(URL_FILE)\n",
    "            if all_urls_scraped:\n",
    "                print(\"All URLs have been scraped.\")\n",
    "                break\n",
    "            else:\n",
    "                print(\"Preparing for another epoch...\")\n",
    "        except Exception as e:\n",
    "            print(f\"An error occured: {e}\")\n",
    "            break\n",
    "        await asyncio.sleep(5)\n",
    "\n",
    "await main()"
   ]
  },
  {
   "cell_type": "code",
   "execution_count": null,
   "metadata": {},
   "outputs": [],
   "source": [
    "#This resets the url status file and DELETE reviews.csv\n",
    "#utils.reset_url_status(URL_FILE)"
   ]
  },
  {
   "cell_type": "code",
   "execution_count": null,
   "metadata": {},
   "outputs": [],
   "source": []
  }
 ],
 "metadata": {
  "kernelspec": {
   "display_name": "py3",
   "language": "python",
   "name": "python3"
  },
  "language_info": {
   "codemirror_mode": {
    "name": "ipython",
    "version": 3
   },
   "file_extension": ".py",
   "mimetype": "text/x-python",
   "name": "python",
   "nbconvert_exporter": "python",
   "pygments_lexer": "ipython3",
   "version": "3.11.9"
  }
 },
 "nbformat": 4,
 "nbformat_minor": 2
}
